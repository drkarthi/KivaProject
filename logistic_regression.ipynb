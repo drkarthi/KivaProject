{
 "cells": [
  {
   "cell_type": "code",
   "execution_count": 1,
   "metadata": {
    "collapsed": true
   },
   "outputs": [],
   "source": [
    "import pandas as pd\n",
    "import numpy as np\n",
    "import matplotlib.pyplot as plt\n",
    "import sklearn.linear_model as sklm\n",
    "import sklearn.preprocessing as skp\n",
    "import sklearn.metrics as skmetric\n",
    "%matplotlib inline"
   ]
  },
  {
   "cell_type": "code",
   "execution_count": 2,
   "metadata": {
    "collapsed": false
   },
   "outputs": [
    {
     "name": "stderr",
     "output_type": "stream",
     "text": [
      "C:\\Users\\Karthik\\Anaconda3\\lib\\site-packages\\IPython\\core\\interactiveshell.py:2902: DtypeWarning: Columns (40) have mixed types. Specify dtype option on import or set low_memory=False.\n",
      "  interactivity=interactivity, compiler=compiler, result=result)\n"
     ]
    }
   ],
   "source": [
    "df_train = pd.read_csv('AllTrain.csv', encoding='cp1252')"
   ]
  },
  {
   "cell_type": "code",
   "execution_count": 3,
   "metadata": {
    "collapsed": false
   },
   "outputs": [
    {
     "data": {
      "text/html": [
       "<div>\n",
       "<table border=\"1\" class=\"dataframe\">\n",
       "  <thead>\n",
       "    <tr style=\"text-align: right;\">\n",
       "      <th></th>\n",
       "      <th>id</th>\n",
       "      <th>status</th>\n",
       "      <th>sector</th>\n",
       "      <th>posted_date</th>\n",
       "      <th>funded_date</th>\n",
       "      <th>loan_amount</th>\n",
       "      <th>partner_id</th>\n",
       "      <th>bonus_credit_eligibility</th>\n",
       "      <th>lender_count</th>\n",
       "      <th>activity</th>\n",
       "      <th>...</th>\n",
       "      <th>SemiC</th>\n",
       "      <th>QMark</th>\n",
       "      <th>Exclam</th>\n",
       "      <th>Dash</th>\n",
       "      <th>Quote</th>\n",
       "      <th>Apostro</th>\n",
       "      <th>Parenth</th>\n",
       "      <th>OtherP</th>\n",
       "      <th>lgAmount</th>\n",
       "      <th>funded_or_not</th>\n",
       "    </tr>\n",
       "  </thead>\n",
       "  <tbody>\n",
       "    <tr>\n",
       "      <th>0</th>\n",
       "      <td>144599</td>\n",
       "      <td>expired</td>\n",
       "      <td>Services</td>\n",
       "      <td>2009-11-01 07:00:35</td>\n",
       "      <td>NaN</td>\n",
       "      <td>2750</td>\n",
       "      <td>73</td>\n",
       "      <td>False</td>\n",
       "      <td>24</td>\n",
       "      <td>Services</td>\n",
       "      <td>...</td>\n",
       "      <td>0.0</td>\n",
       "      <td>0.0</td>\n",
       "      <td>0.0</td>\n",
       "      <td>0.0</td>\n",
       "      <td>0.0</td>\n",
       "      <td>1.75</td>\n",
       "      <td>0.00</td>\n",
       "      <td>0.00</td>\n",
       "      <td>7.919356</td>\n",
       "      <td>1</td>\n",
       "    </tr>\n",
       "    <tr>\n",
       "      <th>1</th>\n",
       "      <td>198636</td>\n",
       "      <td>inactive_expired</td>\n",
       "      <td>Food</td>\n",
       "      <td>NaN</td>\n",
       "      <td>NaN</td>\n",
       "      <td>550</td>\n",
       "      <td>20</td>\n",
       "      <td>False</td>\n",
       "      <td>0</td>\n",
       "      <td>Food Production/Sales</td>\n",
       "      <td>...</td>\n",
       "      <td>0.0</td>\n",
       "      <td>0.0</td>\n",
       "      <td>0.0</td>\n",
       "      <td>0.0</td>\n",
       "      <td>0.0</td>\n",
       "      <td>0.00</td>\n",
       "      <td>3.08</td>\n",
       "      <td>3.08</td>\n",
       "      <td>6.309918</td>\n",
       "      <td>1</td>\n",
       "    </tr>\n",
       "    <tr>\n",
       "      <th>2</th>\n",
       "      <td>395411</td>\n",
       "      <td>inactive_expired</td>\n",
       "      <td>Retail</td>\n",
       "      <td>NaN</td>\n",
       "      <td>NaN</td>\n",
       "      <td>375</td>\n",
       "      <td>133</td>\n",
       "      <td>False</td>\n",
       "      <td>0</td>\n",
       "      <td>Mobile Phones</td>\n",
       "      <td>...</td>\n",
       "      <td>0.0</td>\n",
       "      <td>0.0</td>\n",
       "      <td>0.0</td>\n",
       "      <td>0.0</td>\n",
       "      <td>0.0</td>\n",
       "      <td>0.00</td>\n",
       "      <td>0.00</td>\n",
       "      <td>0.00</td>\n",
       "      <td>5.926926</td>\n",
       "      <td>1</td>\n",
       "    </tr>\n",
       "    <tr>\n",
       "      <th>3</th>\n",
       "      <td>522626</td>\n",
       "      <td>deleted</td>\n",
       "      <td>Retail</td>\n",
       "      <td>NaN</td>\n",
       "      <td>NaN</td>\n",
       "      <td>575</td>\n",
       "      <td>222</td>\n",
       "      <td>True</td>\n",
       "      <td>0</td>\n",
       "      <td>Retail</td>\n",
       "      <td>...</td>\n",
       "      <td>0.0</td>\n",
       "      <td>0.0</td>\n",
       "      <td>0.0</td>\n",
       "      <td>0.0</td>\n",
       "      <td>0.0</td>\n",
       "      <td>0.00</td>\n",
       "      <td>0.00</td>\n",
       "      <td>0.00</td>\n",
       "      <td>6.354370</td>\n",
       "      <td>1</td>\n",
       "    </tr>\n",
       "    <tr>\n",
       "      <th>4</th>\n",
       "      <td>744270</td>\n",
       "      <td>inactive_expired</td>\n",
       "      <td>Food</td>\n",
       "      <td>NaN</td>\n",
       "      <td>NaN</td>\n",
       "      <td>1450</td>\n",
       "      <td>104</td>\n",
       "      <td>False</td>\n",
       "      <td>0</td>\n",
       "      <td>Food</td>\n",
       "      <td>...</td>\n",
       "      <td>0.0</td>\n",
       "      <td>0.0</td>\n",
       "      <td>0.0</td>\n",
       "      <td>0.0</td>\n",
       "      <td>0.0</td>\n",
       "      <td>0.00</td>\n",
       "      <td>0.00</td>\n",
       "      <td>0.00</td>\n",
       "      <td>7.279319</td>\n",
       "      <td>1</td>\n",
       "    </tr>\n",
       "  </tbody>\n",
       "</table>\n",
       "<p>5 rows × 136 columns</p>\n",
       "</div>"
      ],
      "text/plain": [
       "       id            status    sector          posted_date funded_date  \\\n",
       "0  144599           expired  Services  2009-11-01 07:00:35         NaN   \n",
       "1  198636  inactive_expired      Food                  NaN         NaN   \n",
       "2  395411  inactive_expired    Retail                  NaN         NaN   \n",
       "3  522626           deleted    Retail                  NaN         NaN   \n",
       "4  744270  inactive_expired      Food                  NaN         NaN   \n",
       "\n",
       "   loan_amount  partner_id bonus_credit_eligibility  lender_count  \\\n",
       "0         2750          73                    False            24   \n",
       "1          550          20                    False             0   \n",
       "2          375         133                    False             0   \n",
       "3          575         222                     True             0   \n",
       "4         1450         104                    False             0   \n",
       "\n",
       "                activity      ...       SemiC  QMark Exclam  Dash  Quote  \\\n",
       "0               Services      ...         0.0    0.0    0.0   0.0    0.0   \n",
       "1  Food Production/Sales      ...         0.0    0.0    0.0   0.0    0.0   \n",
       "2          Mobile Phones      ...         0.0    0.0    0.0   0.0    0.0   \n",
       "3                 Retail      ...         0.0    0.0    0.0   0.0    0.0   \n",
       "4                   Food      ...         0.0    0.0    0.0   0.0    0.0   \n",
       "\n",
       "  Apostro Parenth  OtherP  lgAmount  funded_or_not  \n",
       "0    1.75    0.00    0.00  7.919356              1  \n",
       "1    0.00    3.08    3.08  6.309918              1  \n",
       "2    0.00    0.00    0.00  5.926926              1  \n",
       "3    0.00    0.00    0.00  6.354370              1  \n",
       "4    0.00    0.00    0.00  7.279319              1  \n",
       "\n",
       "[5 rows x 136 columns]"
      ]
     },
     "execution_count": 3,
     "metadata": {},
     "output_type": "execute_result"
    }
   ],
   "source": [
    "df_train.head()"
   ]
  },
  {
   "cell_type": "code",
   "execution_count": 4,
   "metadata": {
    "collapsed": false
   },
   "outputs": [
    {
     "data": {
      "text/plain": [
       "149"
      ]
     },
     "execution_count": 4,
     "metadata": {},
     "output_type": "execute_result"
    }
   ],
   "source": [
    "df_train['activity'].nunique()"
   ]
  },
  {
   "cell_type": "code",
   "execution_count": 6,
   "metadata": {
    "collapsed": false
   },
   "outputs": [
    {
     "data": {
      "text/plain": [
       "15"
      ]
     },
     "execution_count": 6,
     "metadata": {},
     "output_type": "execute_result"
    }
   ],
   "source": [
    "df_train['sector'].nunique()"
   ]
  },
  {
   "cell_type": "code",
   "execution_count": 19,
   "metadata": {
    "collapsed": false
   },
   "outputs": [],
   "source": [
    "df1 = df_train[['lgAmount', 'repayment_term', 'funded_or_not']].dropna()\n",
    "X_train1 = df1[['lgAmount', 'repayment_term']]\n",
    "y_train1 = df1['funded_or_not']"
   ]
  },
  {
   "cell_type": "code",
   "execution_count": 20,
   "metadata": {
    "collapsed": false
   },
   "outputs": [
    {
     "data": {
      "text/plain": [
       "LogisticRegression(C=1.0, class_weight=None, dual=False, fit_intercept=True,\n",
       "          intercept_scaling=1, max_iter=100, multi_class='ovr', n_jobs=1,\n",
       "          penalty='l2', random_state=None, solver='liblinear', tol=0.0001,\n",
       "          verbose=0, warm_start=False)"
      ]
     },
     "execution_count": 20,
     "metadata": {},
     "output_type": "execute_result"
    }
   ],
   "source": [
    "model1 = sklm.LogisticRegression()\n",
    "model1.fit(X_train1, y_train1)"
   ]
  },
  {
   "cell_type": "code",
   "execution_count": 21,
   "metadata": {
    "collapsed": false
   },
   "outputs": [
    {
     "data": {
      "text/plain": [
       "array([0, 0, 0, ..., 0, 0, 0], dtype=int64)"
      ]
     },
     "execution_count": 21,
     "metadata": {},
     "output_type": "execute_result"
    }
   ],
   "source": [
    "pred1 = model1.predict(X_train1)\n",
    "pred1"
   ]
  },
  {
   "cell_type": "code",
   "execution_count": 22,
   "metadata": {
    "collapsed": false
   },
   "outputs": [
    {
     "data": {
      "text/plain": [
       "array([[ 0.58640897,  0.02461695]])"
      ]
     },
     "execution_count": 22,
     "metadata": {},
     "output_type": "execute_result"
    }
   ],
   "source": [
    "model1.coef_"
   ]
  },
  {
   "cell_type": "code",
   "execution_count": 26,
   "metadata": {
    "collapsed": false
   },
   "outputs": [
    {
     "data": {
      "text/plain": [
       "array([[ 0.92477167,  0.07522833],\n",
       "       [ 0.89056965,  0.10943035],\n",
       "       [ 0.9521717 ,  0.0478283 ],\n",
       "       ..., \n",
       "       [ 0.97537809,  0.02462191],\n",
       "       [ 0.96822556,  0.03177444],\n",
       "       [ 0.9702831 ,  0.0297169 ]])"
      ]
     },
     "execution_count": 26,
     "metadata": {},
     "output_type": "execute_result"
    }
   ],
   "source": [
    "probs = model1.predict_proba(X_train1)\n",
    "probs"
   ]
  },
  {
   "cell_type": "code",
   "execution_count": 27,
   "metadata": {
    "collapsed": true
   },
   "outputs": [],
   "source": [
    "unfunded_prob = probs[:, 1]"
   ]
  },
  {
   "cell_type": "code",
   "execution_count": 28,
   "metadata": {
    "collapsed": false
   },
   "outputs": [
    {
     "data": {
      "text/plain": [
       "<matplotlib.text.Text at 0xaa85b38>"
      ]
     },
     "execution_count": 28,
     "metadata": {},
     "output_type": "execute_result"
    },
    {
     "data": {
      "image/png": "[encoded data removed]",
      "text/plain": [
       "<matplotlib.figure.Figure at 0xaa67470>"
      ]
     },
     "metadata": {},
     "output_type": "display_data"
    }
   ],
   "source": [
    "fpr, tpr, thresholds = skmetric.roc_curve(y_train1, unfunded_prob,)\n",
    "\n",
    "plt.plot(fpr, tpr, 'k-o')\n",
    "plt.ylim(0,1.05)\n",
    "plt.yticks(np.arange(0,1.05,0.2))\n",
    "plt.title('ROC Curve')\n",
    "plt.xlabel('False Positive Rate')\n",
    "plt.ylabel('True Positive Rate')"
   ]
  },
  {
   "cell_type": "code",
   "execution_count": 30,
   "metadata": {
    "collapsed": false
   },
   "outputs": [
    {
     "data": {
      "text/plain": [
       "0.68049084520480885"
      ]
     },
     "execution_count": 30,
     "metadata": {},
     "output_type": "execute_result"
    }
   ],
   "source": [
    "skmetric.roc_auc_score(y_true=y_train1==1, y_score=unfunded_prob,)"
   ]
  },
  {
   "cell_type": "code",
   "execution_count": 32,
   "metadata": {
    "collapsed": true
   },
   "outputs": [],
   "source": [
    "df2 = df_train[['lgAmount', 'repayment_term', 'sector', 'repayment_interval', 'video_present', 'funded_or_not']].dropna()\n",
    "X_train2 = df2[['lgAmount', 'repayment_term', 'sector', 'repayment_interval', 'video_present']]\n",
    "y_train2 = df2['funded_or_not']\n",
    "X_train2 = pd.get_dummies(X_train2)"
   ]
  },
  {
   "cell_type": "code",
   "execution_count": 33,
   "metadata": {
    "collapsed": false
   },
   "outputs": [
    {
     "data": {
      "text/plain": [
       "LogisticRegression(C=1.0, class_weight=None, dual=False, fit_intercept=True,\n",
       "          intercept_scaling=1, max_iter=100, multi_class='ovr', n_jobs=1,\n",
       "          penalty='l2', random_state=None, solver='liblinear', tol=0.0001,\n",
       "          verbose=0, warm_start=False)"
      ]
     },
     "execution_count": 33,
     "metadata": {},
     "output_type": "execute_result"
    }
   ],
   "source": [
    "model2 = sklm.LogisticRegression()\n",
    "model2.fit(X_train2, y_train2)"
   ]
  },
  {
   "cell_type": "code",
   "execution_count": 34,
   "metadata": {
    "collapsed": false
   },
   "outputs": [
    {
     "data": {
      "text/plain": [
       "array([[ 0.61710059,  0.0277334 , -0.04429014, -0.16974597, -1.3391271 ,\n",
       "         0.03944253, -0.5218779 , -1.33512036, -0.91602036, -0.12279216,\n",
       "        -0.5466123 ,  0.71397516, -1.30480057,  0.5535807 ,  0.1852611 ,\n",
       "        -0.22944244,  0.21367169, -0.5015968 , -1.36721432, -1.9902536 ,\n",
       "        -1.92373685]])"
      ]
     },
     "execution_count": 34,
     "metadata": {},
     "output_type": "execute_result"
    }
   ],
   "source": [
    "model2.coef_"
   ]
  },
  {
   "cell_type": "code",
   "execution_count": 35,
   "metadata": {
    "collapsed": false
   },
   "outputs": [
    {
     "data": {
      "text/plain": [
       "array([[ 0.90977674,  0.09022326],\n",
       "       [ 0.91096521,  0.08903479],\n",
       "       [ 0.95916586,  0.04083414],\n",
       "       ..., \n",
       "       [ 0.97967031,  0.02032969],\n",
       "       [ 0.97333009,  0.02666991],\n",
       "       [ 0.96648971,  0.03351029]])"
      ]
     },
     "execution_count": 35,
     "metadata": {},
     "output_type": "execute_result"
    }
   ],
   "source": [
    "probs2 = model2.predict_proba(X_train2)\n",
    "probs2"
   ]
  },
  {
   "cell_type": "code",
   "execution_count": 36,
   "metadata": {
    "collapsed": true
   },
   "outputs": [],
   "source": [
    "unfunded_prob2 = probs2[:, 1]"
   ]
  },
  {
   "cell_type": "code",
   "execution_count": 37,
   "metadata": {
    "collapsed": false
   },
   "outputs": [
    {
     "data": {
      "text/plain": [
       "<matplotlib.text.Text at 0xf284e0>"
      ]
     },
     "execution_count": 37,
     "metadata": {},
     "output_type": "execute_result"
    },
    {
     "data": {
      "image/png": "[encoded data removed]",
      "text/plain": [
       "<matplotlib.figure.Figure at 0xaac0908>"
      ]
     },
     "metadata": {},
     "output_type": "display_data"
    }
   ],
   "source": [
    "fpr, tpr, thresholds = skmetric.roc_curve(y_train2, unfunded_prob2,)\n",
    "\n",
    "plt.plot(fpr, tpr, 'k-o')\n",
    "plt.ylim(0,1.05)\n",
    "plt.yticks(np.arange(0,1.05,0.2))\n",
    "plt.title('ROC Curve')\n",
    "plt.xlabel('False Positive Rate')\n",
    "plt.ylabel('True Positive Rate')"
   ]
  },
  {
   "cell_type": "code",
   "execution_count": 38,
   "metadata": {
    "collapsed": false
   },
   "outputs": [
    {
     "data": {
      "text/plain": [
       "0.70524609406853678"
      ]
     },
     "execution_count": 38,
     "metadata": {},
     "output_type": "execute_result"
    }
   ],
   "source": [
    "skmetric.roc_auc_score(y_true=y_train2==1, y_score=unfunded_prob2,)"
   ]
  },
  {
   "cell_type": "code",
   "execution_count": 52,
   "metadata": {
    "collapsed": false
   },
   "outputs": [
    {
     "data": {
      "text/plain": [
       "0.59760904573135543"
      ]
     },
     "execution_count": 52,
     "metadata": {},
     "output_type": "execute_result"
    }
   ],
   "source": [
    "df3 = df_train[['lgAmount', 'repayment_term', 'sector', 'repayment_interval', 'video_present', 'funded_or_not']].dropna()\n",
    "X_train3 = df3[['sector', 'repayment_interval', 'video_present']]\n",
    "y_train3 = df3['funded_or_not']\n",
    "X_train3 = pd.get_dummies(X_train3)\n",
    "model3 = sklm.LogisticRegression()\n",
    "model3.fit(X_train3, y_train3)\n",
    "probs3 = model3.predict_proba(X_train3)\n",
    "unfunded_prob3 = probs3[:, 1]\n",
    "skmetric.roc_auc_score(y_true=y_train3==1, y_score=unfunded_prob3,)"
   ]
  },
  {
   "cell_type": "code",
   "execution_count": 40,
   "metadata": {
    "collapsed": false
   },
   "outputs": [
    {
     "data": {
      "text/plain": [
       "<matplotlib.text.Text at 0x7d0c1ef0>"
      ]
     },
     "execution_count": 40,
     "metadata": {},
     "output_type": "execute_result"
    },
    {
     "data": {
      "image/png": "[encoded data removed]",
      "text/plain": [
       "<matplotlib.figure.Figure at 0x7d0a1da0>"
      ]
     },
     "metadata": {},
     "output_type": "display_data"
    }
   ],
   "source": [
    "fpr, tpr, thresholds = skmetric.roc_curve(y_train3, unfunded_prob3,)\n",
    "\n",
    "plt.plot(fpr, tpr, 'k-o')\n",
    "plt.ylim(0,1.05)\n",
    "plt.yticks(np.arange(0,1.05,0.2))\n",
    "plt.title('ROC Curve')\n",
    "plt.xlabel('False Positive Rate')\n",
    "plt.ylabel('True Positive Rate')"
   ]
  },
  {
   "cell_type": "code",
   "execution_count": 41,
   "metadata": {
    "collapsed": false
   },
   "outputs": [
    {
     "data": {
      "text/plain": [
       "0.50019980159682931"
      ]
     },
     "execution_count": 41,
     "metadata": {},
     "output_type": "execute_result"
    }
   ],
   "source": [
    "df4 = df_train[['video_present', 'funded_or_not']].dropna()\n",
    "X_train4 = df4[['video_present']]\n",
    "y_train4 = df4['funded_or_not']\n",
    "X_train4 = pd.get_dummies(X_train4)\n",
    "model4 = sklm.LogisticRegression()\n",
    "model4.fit(X_train4, y_train4)\n",
    "probs4 = model4.predict_proba(X_train4)\n",
    "unfunded_prob4 = probs4[:, 1]\n",
    "skmetric.roc_auc_score(y_true=y_train4==1, y_score=unfunded_prob4,)"
   ]
  },
  {
   "cell_type": "code",
   "execution_count": 43,
   "metadata": {
    "collapsed": false
   },
   "outputs": [
    {
     "data": {
      "text/plain": [
       "<matplotlib.text.Text at 0xaa9bac8>"
      ]
     },
     "execution_count": 43,
     "metadata": {},
     "output_type": "execute_result"
    },
    {
     "data": {
      "image/png": "[encoded data removed]",
      "text/plain": [
       "<matplotlib.figure.Figure at 0xf7ecc0>"
      ]
     },
     "metadata": {},
     "output_type": "display_data"
    }
   ],
   "source": [
    "fpr, tpr, thresholds = skmetric.roc_curve(y_train4, unfunded_prob4,)\n",
    "\n",
    "plt.plot(fpr, tpr, 'k-o')\n",
    "plt.ylim(0,1.05)\n",
    "plt.yticks(np.arange(0,1.05,0.2))\n",
    "plt.title('ROC Curve')\n",
    "plt.xlabel('False Positive Rate')\n",
    "plt.ylabel('True Positive Rate')"
   ]
  }
 ],
 "metadata": {
  "kernelspec": {
   "display_name": "Python 3",
   "language": "python",
   "name": "python3"
  },
  "language_info": {
   "codemirror_mode": {
    "name": "ipython",
    "version": 3
   },
   "file_extension": ".py",
   "mimetype": "text/x-python",
   "name": "python",
   "nbconvert_exporter": "python",
   "pygments_lexer": "ipython3",
   "version": "3.4.4"
  }
 },
 "nbformat": 4,
 "nbformat_minor": 0
}
